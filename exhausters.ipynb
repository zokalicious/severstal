{
 "cells": [
  {
   "cell_type": "markdown",
   "metadata": {
    "toc": true
   },
   "source": [
    "<h1>Table of Contents<span class=\"tocSkip\"></span></h1>\n",
    "<div class=\"toc\"><ul class=\"toc-item\"><li><span><a href=\"#Загрузка-и-разделение-данных\" data-toc-modified-id=\"Загрузка-и-разделение-данных-1\"><span class=\"toc-item-num\">1&nbsp;&nbsp;</span>Загрузка и разделение данных</a></span></li><li><span><a href=\"#Названия-столбцов\" data-toc-modified-id=\"Названия-столбцов-2\"><span class=\"toc-item-num\">2&nbsp;&nbsp;</span>Названия столбцов</a></span></li><li><span><a href=\"#Цикл-CatBoost\" data-toc-modified-id=\"Цикл-CatBoost-3\"><span class=\"toc-item-num\">3&nbsp;&nbsp;</span>Цикл CatBoost</a></span></li></ul></div>"
   ]
  },
  {
   "cell_type": "markdown",
   "metadata": {},
   "source": [
    "## Загрузка и разделение данных"
   ]
  },
  {
   "cell_type": "code",
   "execution_count": 1,
   "metadata": {
    "ExecuteTime": {
     "end_time": "2023-05-28T15:40:05.151654Z",
     "start_time": "2023-05-28T15:40:04.382380Z"
    }
   },
   "outputs": [],
   "source": [
    "import pandas as pd\n",
    "import pyarrow as pa\n",
    "import numpy as np\n",
    "import pyarrow.csv as csv\n",
    "import pyarrow.parquet as pq\n",
    "from tqdm import tqdm\n",
    "from catboost import CatBoostClassifier\n",
    "import warnings"
   ]
  },
  {
   "cell_type": "code",
   "execution_count": 2,
   "metadata": {
    "ExecuteTime": {
     "end_time": "2023-05-28T15:40:05.166960Z",
     "start_time": "2023-05-28T15:40:05.151654Z"
    }
   },
   "outputs": [],
   "source": [
    "warnings.filterwarnings('ignore')"
   ]
  },
  {
   "cell_type": "code",
   "execution_count": 3,
   "metadata": {
    "ExecuteTime": {
     "end_time": "2023-05-28T15:40:09.215321Z",
     "start_time": "2023-05-28T15:40:05.168930Z"
    }
   },
   "outputs": [],
   "source": [
    "X_train = pq.read_table('./datasets/X_train.parquet').to_pandas()"
   ]
  },
  {
   "cell_type": "code",
   "execution_count": 4,
   "metadata": {
    "ExecuteTime": {
     "end_time": "2023-05-28T15:40:20.793009Z",
     "start_time": "2023-05-28T15:40:09.217323Z"
    }
   },
   "outputs": [],
   "source": [
    "y_train = pq.read_table('./datasets/y_train.parquet').to_pandas()"
   ]
  },
  {
   "cell_type": "code",
   "execution_count": 5,
   "metadata": {
    "ExecuteTime": {
     "end_time": "2023-05-28T15:40:22.137360Z",
     "start_time": "2023-05-28T15:40:20.794972Z"
    }
   },
   "outputs": [],
   "source": [
    "X_test = pq.read_table('./datasets/X_test.parquet').to_pandas()"
   ]
  },
  {
   "cell_type": "markdown",
   "metadata": {},
   "source": [
    "## Названия столбцов"
   ]
  },
  {
   "cell_type": "code",
   "execution_count": 6,
   "metadata": {
    "ExecuteTime": {
     "end_time": "2023-05-28T15:40:22.153359Z",
     "start_time": "2023-05-28T15:40:22.139359Z"
    },
    "scrolled": true
   },
   "outputs": [
    {
     "data": {
      "text/plain": [
       "['ЭКСГАУСТЕР 4',\n",
       " 'ЭКСГАУСТЕР 5',\n",
       " 'ЭКСГАУСТЕР 6',\n",
       " 'ЭКСГАУСТЕР 7',\n",
       " 'ЭКСГАУСТЕР 8',\n",
       " 'ЭКСГАУСТЕР 9']"
      ]
     },
     "execution_count": 6,
     "metadata": {},
     "output_type": "execute_result"
    }
   ],
   "source": [
    "exhausters_X_list = ['ЭКСГАУСТЕР 4', 'ЭКСГАУСТЕР 5', 'ЭКСГАУСТЕР 6', 'ЭКСГАУСТЕР 7', 'ЭКСГАУСТЕР 8', 'ЭКСГАУСТЕР 9']\n",
    "exhausters_X_list"
   ]
  },
  {
   "cell_type": "code",
   "execution_count": 7,
   "metadata": {
    "ExecuteTime": {
     "end_time": "2023-05-28T15:40:22.167359Z",
     "start_time": "2023-05-28T15:40:22.153359Z"
    }
   },
   "outputs": [
    {
     "data": {
      "text/plain": [
       "['ЭКСГАУСТЕР А/М №4',\n",
       " 'ЭКСГАУСТЕР А/М №5',\n",
       " 'ЭКСГАУСТЕР А/М №6',\n",
       " 'ЭКСГАУСТЕР А/М №7',\n",
       " 'ЭКСГАУСТЕР А/М №8',\n",
       " 'ЭКСГАУСТЕР А/М №9']"
      ]
     },
     "execution_count": 7,
     "metadata": {},
     "output_type": "execute_result"
    }
   ],
   "source": [
    "exhausters_y_list = ['ЭКСГАУСТЕР А/М №4' ,'ЭКСГАУСТЕР А/М №5', 'ЭКСГАУСТЕР А/М №6', 'ЭКСГАУСТЕР А/М №7', 'ЭКСГАУСТЕР А/М №8', 'ЭКСГАУСТЕР А/М №9']\n",
    "exhausters_y_list"
   ]
  },
  {
   "cell_type": "markdown",
   "metadata": {},
   "source": [
    "## Цикл CatBoost"
   ]
  },
  {
   "cell_type": "code",
   "execution_count": null,
   "metadata": {
    "ExecuteTime": {
     "start_time": "2023-05-28T15:40:04.302Z"
    },
    "scrolled": false
   },
   "outputs": [
    {
     "name": "stderr",
     "output_type": "stream",
     "text": [
      "\r",
      "0it [00:00, ?it/s]"
     ]
    }
   ],
   "source": [
    "### exhausters cycle for M3\n",
    "result = {}\n",
    "for ex_X, ex_y in tqdm(zip(exhausters_X_list, exhausters_y_list)):\n",
    "    X_columns = [col for col in X_train.columns if ex_X in col]\n",
    "    y_columns = [col for col in y_train.columns if ex_y in col]\n",
    "    features_train = X_train[X_columns]\n",
    "    targets_train = y_train[y_columns]\n",
    "    features_test = X_test[X_columns]\n",
    "    # добавляем  .rolling(100).std(), diff(1), rolling(100).median(), row - row.mean(), row - row.median()\n",
    "    for feature in features_train.columns:\n",
    "        name = feature+'r100.std'\n",
    "        features_train[name] = features_train[feature].rolling(100).std()\n",
    "        features_test[name] = features_test[feature].rolling(100).std()\n",
    "        name = feature+'diff1'\n",
    "        features_train[name] = features_train[feature].diff(1)\n",
    "        features_test[name] = features_test[feature].diff(1)\n",
    "        name = feature+'r100.mean'\n",
    "        features_train[name] = features_train[feature].rolling(100).median()\n",
    "        features_test[name] = features_test[feature].rolling(100).median()\n",
    "        name = feature+'-mean'\n",
    "        features_train[name] = features_train[feature] - features_train[feature].mean() \n",
    "        features_test[name] = features_test[feature] - features_test[feature].mean() \n",
    "        name = feature+'-median'\n",
    "        features_train[name] = features_train[feature] - features_train[feature].median()\n",
    "        features_test[name] = features_test[feature] - features_test[feature].median()\n",
    "    for target in targets_train.columns:\n",
    "        # убираем метку 1 (останов)\n",
    "        targets_train.loc[targets_train[target] == 1, target] = 0\n",
    "        targets_train.loc[targets_train[target] == 2, target] = 1\n",
    "        if len(targets_train[target].unique()) == 2:\n",
    "            cbc = CatBoostClassifier(task_type='GPU',\n",
    "                                random_seed=12345,\n",
    "                                iterations=1000,\n",
    "                                verbose=500,\n",
    "                                auto_class_weights='Balanced')\n",
    "            cbc.fit(features_train, targets_train[target])\n",
    "            predictions = cbc.predict(features_test)*2\n",
    "        else:\n",
    "            predictions = np.array([targets_train[target].unique()]*len(features_test))\n",
    "        result[target] = predictions\n",
    "result = pd.DataFrame(result, index=X_test.index)"
   ]
  },
  {
   "cell_type": "code",
   "execution_count": null,
   "metadata": {},
   "outputs": [],
   "source": []
  }
 ],
 "metadata": {
  "kernelspec": {
   "display_name": "Python 3 (ipykernel)",
   "language": "python",
   "name": "python3"
  },
  "language_info": {
   "codemirror_mode": {
    "name": "ipython",
    "version": 3
   },
   "file_extension": ".py",
   "mimetype": "text/x-python",
   "name": "python",
   "nbconvert_exporter": "python",
   "pygments_lexer": "ipython3",
   "version": "3.10.9"
  },
  "toc": {
   "base_numbering": 1,
   "nav_menu": {},
   "number_sections": true,
   "sideBar": true,
   "skip_h1_title": true,
   "title_cell": "Table of Contents",
   "title_sidebar": "Contents",
   "toc_cell": true,
   "toc_position": {
    "height": "calc(100% - 180px)",
    "left": "10px",
    "top": "150px",
    "width": "366.646px"
   },
   "toc_section_display": true,
   "toc_window_display": true
  },
  "varInspector": {
   "cols": {
    "lenName": 16,
    "lenType": 16,
    "lenVar": 40
   },
   "kernels_config": {
    "python": {
     "delete_cmd_postfix": "",
     "delete_cmd_prefix": "del ",
     "library": "var_list.py",
     "varRefreshCmd": "print(var_dic_list())"
    },
    "r": {
     "delete_cmd_postfix": ") ",
     "delete_cmd_prefix": "rm(",
     "library": "var_list.r",
     "varRefreshCmd": "cat(var_dic_list()) "
    }
   },
   "types_to_exclude": [
    "module",
    "function",
    "builtin_function_or_method",
    "instance",
    "_Feature"
   ],
   "window_display": false
  }
 },
 "nbformat": 4,
 "nbformat_minor": 2
}
